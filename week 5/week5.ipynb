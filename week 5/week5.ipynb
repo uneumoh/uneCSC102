{
 "cells": [
  {
   "cell_type": "code",
   "execution_count": 21,
   "metadata": {},
   "outputs": [
    {
     "name": "stdout",
     "output_type": "stream",
     "text": [
      "input text: tunde\n",
      "true\n",
      "true\n",
      "true\n",
      "true\n",
      "true\n"
     ]
    }
   ],
   "source": [
    "forbidenletters = [\"a\" ,\"b\" , \"o\" , \"k\" , \"v\"]\n",
    "def avoids():\n",
    "    word = input(\"input text: \")\n",
    "    for c in word:\n",
    "        if c in forbidenletters:\n",
    "            print(\"false\")\n",
    "        else:\n",
    "            print(\"true\")\n",
    "    return\n",
    "avoids()"
   ]
  },
  {
   "cell_type": "code",
   "execution_count": 31,
   "metadata": {},
   "outputs": [
    {
     "name": "stdout",
     "output_type": "stream",
     "text": [
      "input text: shoot\n",
      "true\n",
      "true\n",
      "true\n",
      "true\n",
      "true\n"
     ]
    }
   ],
   "source": [
    "reqletters = [\"s\" , \"h\", \"o\" , \"o\" , \"t\"]\n",
    "def uses_all():\n",
    "    word = input(\"input text: \")\n",
    "    for c in word:\n",
    "        if (c in reqletters) == (c in word):\n",
    "            print(\"true\")\n",
    "        else:\n",
    "            print(\"false\")\n",
    "    return\n",
    "uses_all()"
   ]
  },
  {
   "cell_type": "code",
   "execution_count": null,
   "metadata": {},
   "outputs": [],
   "source": []
  }
 ],
 "metadata": {
  "kernelspec": {
   "display_name": "Python 3",
   "language": "python",
   "name": "python3"
  },
  "language_info": {
   "codemirror_mode": {
    "name": "ipython",
    "version": 3
   },
   "file_extension": ".py",
   "mimetype": "text/x-python",
   "name": "python",
   "nbconvert_exporter": "python",
   "pygments_lexer": "ipython3",
   "version": "3.8.5"
  }
 },
 "nbformat": 4,
 "nbformat_minor": 4
}
